{
 "cells": [
  {
   "cell_type": "markdown",
   "id": "fd62bb50",
   "metadata": {},
   "source": [
    "# A. Building a baseline model"
   ]
  },
  {
   "cell_type": "markdown",
   "id": "88e8406e",
   "metadata": {},
   "source": [
    "### Importing numpy & pandas libraries, and some packages from the keras and scikit-learn library"
   ]
  },
  {
   "cell_type": "code",
   "execution_count": 1,
   "id": "f33e9a99",
   "metadata": {},
   "outputs": [],
   "source": [
    "import numpy as np\n",
    "import pandas as pd\n",
    "import keras\n",
    "from keras.models import Sequential\n",
    "from keras.layers import Dense\n",
    "from sklearn.model_selection import train_test_split"
   ]
  },
  {
   "cell_type": "markdown",
   "id": "0bac9683",
   "metadata": {},
   "source": [
    "### Downloading the data"
   ]
  },
  {
   "cell_type": "code",
   "execution_count": 2,
   "id": "1ece086f",
   "metadata": {},
   "outputs": [
    {
     "data": {
      "text/html": [
       "<div>\n",
       "<style scoped>\n",
       "    .dataframe tbody tr th:only-of-type {\n",
       "        vertical-align: middle;\n",
       "    }\n",
       "\n",
       "    .dataframe tbody tr th {\n",
       "        vertical-align: top;\n",
       "    }\n",
       "\n",
       "    .dataframe thead th {\n",
       "        text-align: right;\n",
       "    }\n",
       "</style>\n",
       "<table border=\"1\" class=\"dataframe\">\n",
       "  <thead>\n",
       "    <tr style=\"text-align: right;\">\n",
       "      <th></th>\n",
       "      <th>Cement</th>\n",
       "      <th>Blast Furnace Slag</th>\n",
       "      <th>Fly Ash</th>\n",
       "      <th>Water</th>\n",
       "      <th>Superplasticizer</th>\n",
       "      <th>Coarse Aggregate</th>\n",
       "      <th>Fine Aggregate</th>\n",
       "      <th>Age</th>\n",
       "      <th>Strength</th>\n",
       "    </tr>\n",
       "  </thead>\n",
       "  <tbody>\n",
       "    <tr>\n",
       "      <th>0</th>\n",
       "      <td>540.0</td>\n",
       "      <td>0.0</td>\n",
       "      <td>0.0</td>\n",
       "      <td>162.0</td>\n",
       "      <td>2.5</td>\n",
       "      <td>1040.0</td>\n",
       "      <td>676.0</td>\n",
       "      <td>28</td>\n",
       "      <td>79.99</td>\n",
       "    </tr>\n",
       "    <tr>\n",
       "      <th>1</th>\n",
       "      <td>540.0</td>\n",
       "      <td>0.0</td>\n",
       "      <td>0.0</td>\n",
       "      <td>162.0</td>\n",
       "      <td>2.5</td>\n",
       "      <td>1055.0</td>\n",
       "      <td>676.0</td>\n",
       "      <td>28</td>\n",
       "      <td>61.89</td>\n",
       "    </tr>\n",
       "    <tr>\n",
       "      <th>2</th>\n",
       "      <td>332.5</td>\n",
       "      <td>142.5</td>\n",
       "      <td>0.0</td>\n",
       "      <td>228.0</td>\n",
       "      <td>0.0</td>\n",
       "      <td>932.0</td>\n",
       "      <td>594.0</td>\n",
       "      <td>270</td>\n",
       "      <td>40.27</td>\n",
       "    </tr>\n",
       "    <tr>\n",
       "      <th>3</th>\n",
       "      <td>332.5</td>\n",
       "      <td>142.5</td>\n",
       "      <td>0.0</td>\n",
       "      <td>228.0</td>\n",
       "      <td>0.0</td>\n",
       "      <td>932.0</td>\n",
       "      <td>594.0</td>\n",
       "      <td>365</td>\n",
       "      <td>41.05</td>\n",
       "    </tr>\n",
       "    <tr>\n",
       "      <th>4</th>\n",
       "      <td>198.6</td>\n",
       "      <td>132.4</td>\n",
       "      <td>0.0</td>\n",
       "      <td>192.0</td>\n",
       "      <td>0.0</td>\n",
       "      <td>978.4</td>\n",
       "      <td>825.5</td>\n",
       "      <td>360</td>\n",
       "      <td>44.30</td>\n",
       "    </tr>\n",
       "    <tr>\n",
       "      <th>5</th>\n",
       "      <td>266.0</td>\n",
       "      <td>114.0</td>\n",
       "      <td>0.0</td>\n",
       "      <td>228.0</td>\n",
       "      <td>0.0</td>\n",
       "      <td>932.0</td>\n",
       "      <td>670.0</td>\n",
       "      <td>90</td>\n",
       "      <td>47.03</td>\n",
       "    </tr>\n",
       "    <tr>\n",
       "      <th>6</th>\n",
       "      <td>380.0</td>\n",
       "      <td>95.0</td>\n",
       "      <td>0.0</td>\n",
       "      <td>228.0</td>\n",
       "      <td>0.0</td>\n",
       "      <td>932.0</td>\n",
       "      <td>594.0</td>\n",
       "      <td>365</td>\n",
       "      <td>43.70</td>\n",
       "    </tr>\n",
       "    <tr>\n",
       "      <th>7</th>\n",
       "      <td>380.0</td>\n",
       "      <td>95.0</td>\n",
       "      <td>0.0</td>\n",
       "      <td>228.0</td>\n",
       "      <td>0.0</td>\n",
       "      <td>932.0</td>\n",
       "      <td>594.0</td>\n",
       "      <td>28</td>\n",
       "      <td>36.45</td>\n",
       "    </tr>\n",
       "    <tr>\n",
       "      <th>8</th>\n",
       "      <td>266.0</td>\n",
       "      <td>114.0</td>\n",
       "      <td>0.0</td>\n",
       "      <td>228.0</td>\n",
       "      <td>0.0</td>\n",
       "      <td>932.0</td>\n",
       "      <td>670.0</td>\n",
       "      <td>28</td>\n",
       "      <td>45.85</td>\n",
       "    </tr>\n",
       "    <tr>\n",
       "      <th>9</th>\n",
       "      <td>475.0</td>\n",
       "      <td>0.0</td>\n",
       "      <td>0.0</td>\n",
       "      <td>228.0</td>\n",
       "      <td>0.0</td>\n",
       "      <td>932.0</td>\n",
       "      <td>594.0</td>\n",
       "      <td>28</td>\n",
       "      <td>39.29</td>\n",
       "    </tr>\n",
       "  </tbody>\n",
       "</table>\n",
       "</div>"
      ],
      "text/plain": [
       "   Cement  Blast Furnace Slag  Fly Ash  Water  Superplasticizer  \\\n",
       "0   540.0                 0.0      0.0  162.0               2.5   \n",
       "1   540.0                 0.0      0.0  162.0               2.5   \n",
       "2   332.5               142.5      0.0  228.0               0.0   \n",
       "3   332.5               142.5      0.0  228.0               0.0   \n",
       "4   198.6               132.4      0.0  192.0               0.0   \n",
       "5   266.0               114.0      0.0  228.0               0.0   \n",
       "6   380.0                95.0      0.0  228.0               0.0   \n",
       "7   380.0                95.0      0.0  228.0               0.0   \n",
       "8   266.0               114.0      0.0  228.0               0.0   \n",
       "9   475.0                 0.0      0.0  228.0               0.0   \n",
       "\n",
       "   Coarse Aggregate  Fine Aggregate  Age  Strength  \n",
       "0            1040.0           676.0   28     79.99  \n",
       "1            1055.0           676.0   28     61.89  \n",
       "2             932.0           594.0  270     40.27  \n",
       "3             932.0           594.0  365     41.05  \n",
       "4             978.4           825.5  360     44.30  \n",
       "5             932.0           670.0   90     47.03  \n",
       "6             932.0           594.0  365     43.70  \n",
       "7             932.0           594.0   28     36.45  \n",
       "8             932.0           670.0   28     45.85  \n",
       "9             932.0           594.0   28     39.29  "
      ]
     },
     "execution_count": 2,
     "metadata": {},
     "output_type": "execute_result"
    }
   ],
   "source": [
    "conc_dataset = pd.read_csv('https://s3-api.us-geo.objectstorage.softlayer.net/cf-courses-data/CognitiveClass/DL0101EN/labs/data/concrete_data.csv')\n",
    "conc_dataset.head(10)"
   ]
  },
  {
   "cell_type": "markdown",
   "id": "7cb1d110",
   "metadata": {},
   "source": [
    "### Splitting the data into predictors and Target"
   ]
  },
  {
   "cell_type": "code",
   "execution_count": 3,
   "id": "417040f8",
   "metadata": {},
   "outputs": [],
   "source": [
    "#Target is the \"Strength\" feature \n",
    "target_group = conc_dataset['Strength']\n",
    "\n",
    "#predictors group are all columns exept the Target\n",
    "predictors_group = conc_dataset[['Cement', 'Blast Furnace Slag', 'Fly Ash', 'Water', 'Superplasticizer','Coarse Aggregate', 'Fine Aggregate', 'Age']]"
   ]
  },
  {
   "cell_type": "markdown",
   "id": "0e254fd6",
   "metadata": {},
   "source": [
    "### Creating a function that defines the regression model of the neural network"
   ]
  },
  {
   "cell_type": "code",
   "execution_count": 4,
   "id": "6f8477b3",
   "metadata": {},
   "outputs": [],
   "source": [
    "def regression_model():\n",
    "    #create model\n",
    "    model = Sequential()\n",
    "    #creating the first layer\n",
    "    model.add(Dense(10, activation='relu', input_shape=(predictors_group.shape[1],)))\n",
    "    model.add(Dense(1))\n",
    "    #compile model\n",
    "    model.compile(optimizer='adam', loss='mean_squared_error')\n",
    "    return model"
   ]
  },
  {
   "cell_type": "markdown",
   "id": "33da8397",
   "metadata": {},
   "source": [
    "### Build the model"
   ]
  },
  {
   "cell_type": "code",
   "execution_count": 5,
   "id": "f1e16b79",
   "metadata": {},
   "outputs": [],
   "source": [
    "my_model = regression_model()"
   ]
  },
  {
   "cell_type": "markdown",
   "id": "80e9d537",
   "metadata": {},
   "source": [
    "### Train the model on the training data using 50 epochs"
   ]
  },
  {
   "cell_type": "code",
   "execution_count": 6,
   "id": "d895fb5f",
   "metadata": {},
   "outputs": [
    {
     "name": "stdout",
     "output_type": "stream",
     "text": [
      "Trial 1: Mean_Squared_Error= 361.363525390625\n",
      "Trial 2: Mean_Squared_Error= 205.0968017578125\n",
      "Trial 3: Mean_Squared_Error= 117.73285675048828\n",
      "Trial 4: Mean_Squared_Error= 102.76799011230469\n",
      "Trial 5: Mean_Squared_Error= 88.3550796508789\n",
      "Trial 6: Mean_Squared_Error= 95.01924896240234\n",
      "Trial 7: Mean_Squared_Error= 84.6137924194336\n",
      "Trial 8: Mean_Squared_Error= 75.61719512939453\n",
      "Trial 9: Mean_Squared_Error= 79.95269012451172\n",
      "Trial 10: Mean_Squared_Error= 61.43897247314453\n",
      "Trial 11: Mean_Squared_Error= 62.70022964477539\n",
      "Trial 12: Mean_Squared_Error= 52.21890640258789\n",
      "Trial 13: Mean_Squared_Error= 51.973655700683594\n",
      "Trial 14: Mean_Squared_Error= 57.11802291870117\n",
      "Trial 15: Mean_Squared_Error= 45.801780700683594\n",
      "Trial 16: Mean_Squared_Error= 50.247982025146484\n",
      "Trial 17: Mean_Squared_Error= 48.79481506347656\n",
      "Trial 18: Mean_Squared_Error= 57.71278381347656\n",
      "Trial 19: Mean_Squared_Error= 49.47074508666992\n",
      "Trial 20: Mean_Squared_Error= 59.49860763549805\n",
      "Trial 21: Mean_Squared_Error= 45.519412994384766\n",
      "Trial 22: Mean_Squared_Error= 50.133052825927734\n",
      "Trial 23: Mean_Squared_Error= 53.744197845458984\n",
      "Trial 24: Mean_Squared_Error= 55.061614990234375\n",
      "Trial 25: Mean_Squared_Error= 49.05706024169922\n",
      "Trial 26: Mean_Squared_Error= 45.9980583190918\n",
      "Trial 27: Mean_Squared_Error= 58.60163879394531\n",
      "Trial 28: Mean_Squared_Error= 56.12272262573242\n",
      "Trial 29: Mean_Squared_Error= 43.93061828613281\n",
      "Trial 30: Mean_Squared_Error= 55.9921760559082\n",
      "Trial 31: Mean_Squared_Error= 52.558895111083984\n",
      "Trial 32: Mean_Squared_Error= 50.23523712158203\n",
      "Trial 33: Mean_Squared_Error= 51.87207794189453\n",
      "Trial 34: Mean_Squared_Error= 53.05887985229492\n",
      "Trial 35: Mean_Squared_Error= 49.03057861328125\n",
      "Trial 36: Mean_Squared_Error= 60.688453674316406\n",
      "Trial 37: Mean_Squared_Error= 46.839725494384766\n",
      "Trial 38: Mean_Squared_Error= 51.97578430175781\n",
      "Trial 39: Mean_Squared_Error= 54.737327575683594\n",
      "Trial 40: Mean_Squared_Error= 55.1448860168457\n",
      "Trial 41: Mean_Squared_Error= 46.81343078613281\n",
      "Trial 42: Mean_Squared_Error= 57.11979675292969\n",
      "Trial 43: Mean_Squared_Error= 52.91665267944336\n",
      "Trial 44: Mean_Squared_Error= 48.1374626159668\n",
      "Trial 45: Mean_Squared_Error= 46.996673583984375\n",
      "Trial 46: Mean_Squared_Error= 50.04833984375\n",
      "Trial 47: Mean_Squared_Error= 48.89841842651367\n",
      "Trial 48: Mean_Squared_Error= 51.09585952758789\n",
      "Trial 49: Mean_Squared_Error= 47.44074630737305\n",
      "Trial 50: Mean_Squared_Error= 50.043800354003906\n"
     ]
    }
   ],
   "source": [
    "#creating a list to save the values of the mean squared errors\n",
    "mse_list = []\n",
    "#creating a list to save the value of the least  mean squared errors\n",
    "least_mse = []\n",
    "#a loop to repeat the splitting and fitting prossess \n",
    "for i in range(50):\n",
    "    #Randomly split the data by holding 30% of the data for testing  \n",
    "    x_train, x_test, y_train, y_test = train_test_split(predictors_group, target_group, test_size=0.3)\n",
    "    #Train the model\n",
    "    result = my_model.fit(x_train, y_train, epochs=50, verbose=0, validation_data=(x_test, y_test))\n",
    "    #Find mean squared error as the last value\n",
    "    mean_squared_error = result.history['val_loss'][-1]\n",
    "    #Adding the value of the mean squared error to the list\n",
    "    mse_list.append(mean_squared_error)\n",
    "    print('Trial {}: Mean_Squared_Error= {}'.format(i+1, mean_squared_error))"
   ]
  },
  {
   "cell_type": "markdown",
   "id": "2b5115f5",
   "metadata": {},
   "source": [
    "### Save the (least) Mean squared error of the best model in a list "
   ]
  },
  {
   "cell_type": "code",
   "execution_count": 7,
   "id": "4e6231dc",
   "metadata": {},
   "outputs": [
    {
     "name": "stdout",
     "output_type": "stream",
     "text": [
      "The best model has MSE of 43.93061828613281\n"
     ]
    }
   ],
   "source": [
    "best_model = min(mse_list)\n",
    "least_mse.append(best_model)\n",
    "print(\"The best model has MSE of {}\".format(best_model))"
   ]
  },
  {
   "cell_type": "code",
   "execution_count": 8,
   "id": "8c91982f",
   "metadata": {},
   "outputs": [
    {
     "name": "stdout",
     "output_type": "stream",
     "text": [
      "The best model has MSE of 43.93061828613281\n"
     ]
    }
   ],
   "source": [
    "print(\"The best model has MSE of {}\".format(min(mse_list)))"
   ]
  },
  {
   "cell_type": "markdown",
   "id": "3d03fb4e",
   "metadata": {},
   "source": [
    "### The mean and the standard deviation of the mean squared errors"
   ]
  },
  {
   "cell_type": "code",
   "execution_count": 9,
   "id": "d8c2d776",
   "metadata": {},
   "outputs": [
    {
     "name": "stdout",
     "output_type": "stream",
     "text": [
      "The mean of the mean squared errors: 66.94618522644043\n",
      "The standard deviation of the mean squared errors: 49.26155614145892\n"
     ]
    }
   ],
   "source": [
    "mean = np.mean(mse_list)\n",
    "standard_deviation = np.std(mse_list)\n",
    "print(\"The mean of the mean squared errors: {}\".format(mean))\n",
    "print(\"The standard deviation of the mean squared errors: {}\".format(standard_deviation))"
   ]
  },
  {
   "cell_type": "markdown",
   "id": "932e60da",
   "metadata": {},
   "source": [
    "# B. Normalize the data"
   ]
  },
  {
   "cell_type": "markdown",
   "id": "c7985bff",
   "metadata": {},
   "source": [
    "### Normalize the data by subtracting the mean from the individual predictors and dividing by the standard deviation"
   ]
  },
  {
   "cell_type": "code",
   "execution_count": 10,
   "id": "517a63c0",
   "metadata": {},
   "outputs": [
    {
     "data": {
      "text/html": [
       "<div>\n",
       "<style scoped>\n",
       "    .dataframe tbody tr th:only-of-type {\n",
       "        vertical-align: middle;\n",
       "    }\n",
       "\n",
       "    .dataframe tbody tr th {\n",
       "        vertical-align: top;\n",
       "    }\n",
       "\n",
       "    .dataframe thead th {\n",
       "        text-align: right;\n",
       "    }\n",
       "</style>\n",
       "<table border=\"1\" class=\"dataframe\">\n",
       "  <thead>\n",
       "    <tr style=\"text-align: right;\">\n",
       "      <th></th>\n",
       "      <th>Cement</th>\n",
       "      <th>Blast Furnace Slag</th>\n",
       "      <th>Fly Ash</th>\n",
       "      <th>Water</th>\n",
       "      <th>Superplasticizer</th>\n",
       "      <th>Coarse Aggregate</th>\n",
       "      <th>Fine Aggregate</th>\n",
       "      <th>Age</th>\n",
       "    </tr>\n",
       "  </thead>\n",
       "  <tbody>\n",
       "    <tr>\n",
       "      <th>0</th>\n",
       "      <td>2.476712</td>\n",
       "      <td>-0.856472</td>\n",
       "      <td>-0.846733</td>\n",
       "      <td>-0.916319</td>\n",
       "      <td>-0.620147</td>\n",
       "      <td>0.862735</td>\n",
       "      <td>-1.217079</td>\n",
       "      <td>-0.279597</td>\n",
       "    </tr>\n",
       "    <tr>\n",
       "      <th>1</th>\n",
       "      <td>2.476712</td>\n",
       "      <td>-0.856472</td>\n",
       "      <td>-0.846733</td>\n",
       "      <td>-0.916319</td>\n",
       "      <td>-0.620147</td>\n",
       "      <td>1.055651</td>\n",
       "      <td>-1.217079</td>\n",
       "      <td>-0.279597</td>\n",
       "    </tr>\n",
       "    <tr>\n",
       "      <th>2</th>\n",
       "      <td>0.491187</td>\n",
       "      <td>0.795140</td>\n",
       "      <td>-0.846733</td>\n",
       "      <td>2.174405</td>\n",
       "      <td>-1.038638</td>\n",
       "      <td>-0.526262</td>\n",
       "      <td>-2.239829</td>\n",
       "      <td>3.551340</td>\n",
       "    </tr>\n",
       "    <tr>\n",
       "      <th>3</th>\n",
       "      <td>0.491187</td>\n",
       "      <td>0.795140</td>\n",
       "      <td>-0.846733</td>\n",
       "      <td>2.174405</td>\n",
       "      <td>-1.038638</td>\n",
       "      <td>-0.526262</td>\n",
       "      <td>-2.239829</td>\n",
       "      <td>5.055221</td>\n",
       "    </tr>\n",
       "    <tr>\n",
       "      <th>4</th>\n",
       "      <td>-0.790075</td>\n",
       "      <td>0.678079</td>\n",
       "      <td>-0.846733</td>\n",
       "      <td>0.488555</td>\n",
       "      <td>-1.038638</td>\n",
       "      <td>0.070492</td>\n",
       "      <td>0.647569</td>\n",
       "      <td>4.976069</td>\n",
       "    </tr>\n",
       "  </tbody>\n",
       "</table>\n",
       "</div>"
      ],
      "text/plain": [
       "     Cement  Blast Furnace Slag   Fly Ash     Water  Superplasticizer  \\\n",
       "0  2.476712           -0.856472 -0.846733 -0.916319         -0.620147   \n",
       "1  2.476712           -0.856472 -0.846733 -0.916319         -0.620147   \n",
       "2  0.491187            0.795140 -0.846733  2.174405         -1.038638   \n",
       "3  0.491187            0.795140 -0.846733  2.174405         -1.038638   \n",
       "4 -0.790075            0.678079 -0.846733  0.488555         -1.038638   \n",
       "\n",
       "   Coarse Aggregate  Fine Aggregate       Age  \n",
       "0          0.862735       -1.217079 -0.279597  \n",
       "1          1.055651       -1.217079 -0.279597  \n",
       "2         -0.526262       -2.239829  3.551340  \n",
       "3         -0.526262       -2.239829  5.055221  \n",
       "4          0.070492        0.647569  4.976069  "
      ]
     },
     "execution_count": 10,
     "metadata": {},
     "output_type": "execute_result"
    }
   ],
   "source": [
    "norm_predictors_group = (predictors_group - predictors_group.mean())/predictors_group.std()\n",
    "norm_predictors_group.head()"
   ]
  },
  {
   "cell_type": "markdown",
   "id": "8c260a28",
   "metadata": {},
   "source": [
    "### Re-build the model using the normalized data"
   ]
  },
  {
   "cell_type": "code",
   "execution_count": 11,
   "id": "64ac79d6",
   "metadata": {},
   "outputs": [],
   "source": [
    "def norm_regression_model():\n",
    "    norm_model = Sequential()\n",
    "    norm_model.add(Dense(10, activation='relu', input_shape=(norm_predictors_group.shape[1],)))\n",
    "    norm_model.add(Dense(1))\n",
    "    norm_model.compile(optimizer='adam', loss='mean_squared_error')\n",
    "    return norm_model"
   ]
  },
  {
   "cell_type": "code",
   "execution_count": 12,
   "id": "4fc12f82",
   "metadata": {},
   "outputs": [],
   "source": [
    "my_model2 = norm_regression_model()"
   ]
  },
  {
   "cell_type": "markdown",
   "id": "369d3aa3",
   "metadata": {},
   "source": [
    "### Train the model on the normalized data using 50 epochs"
   ]
  },
  {
   "cell_type": "code",
   "execution_count": 13,
   "id": "65722f23",
   "metadata": {
    "scrolled": true
   },
   "outputs": [
    {
     "name": "stdout",
     "output_type": "stream",
     "text": [
      "Trial 1: Mean_Squared_Error= 338.5841369628906\n",
      "Trial 2: Mean_Squared_Error= 172.47506713867188\n",
      "Trial 3: Mean_Squared_Error= 111.29866790771484\n",
      "Trial 4: Mean_Squared_Error= 85.40751647949219\n",
      "Trial 5: Mean_Squared_Error= 63.31898498535156\n",
      "Trial 6: Mean_Squared_Error= 50.841529846191406\n",
      "Trial 7: Mean_Squared_Error= 54.464115142822266\n",
      "Trial 8: Mean_Squared_Error= 54.92283630371094\n",
      "Trial 9: Mean_Squared_Error= 51.69728469848633\n",
      "Trial 10: Mean_Squared_Error= 42.894588470458984\n",
      "Trial 11: Mean_Squared_Error= 51.44646072387695\n",
      "Trial 12: Mean_Squared_Error= 51.52364730834961\n",
      "Trial 13: Mean_Squared_Error= 38.75411605834961\n",
      "Trial 14: Mean_Squared_Error= 43.13811492919922\n",
      "Trial 15: Mean_Squared_Error= 41.55244445800781\n",
      "Trial 16: Mean_Squared_Error= 37.06069564819336\n",
      "Trial 17: Mean_Squared_Error= 42.796146392822266\n",
      "Trial 18: Mean_Squared_Error= 40.457942962646484\n",
      "Trial 19: Mean_Squared_Error= 39.9007682800293\n",
      "Trial 20: Mean_Squared_Error= 37.617671966552734\n",
      "Trial 21: Mean_Squared_Error= 38.949745178222656\n",
      "Trial 22: Mean_Squared_Error= 36.675567626953125\n",
      "Trial 23: Mean_Squared_Error= 42.02755355834961\n",
      "Trial 24: Mean_Squared_Error= 41.96269607543945\n",
      "Trial 25: Mean_Squared_Error= 38.17413330078125\n",
      "Trial 26: Mean_Squared_Error= 40.036930084228516\n",
      "Trial 27: Mean_Squared_Error= 36.70518493652344\n",
      "Trial 28: Mean_Squared_Error= 39.889766693115234\n",
      "Trial 29: Mean_Squared_Error= 35.62982177734375\n",
      "Trial 30: Mean_Squared_Error= 36.794227600097656\n",
      "Trial 31: Mean_Squared_Error= 38.8021354675293\n",
      "Trial 32: Mean_Squared_Error= 39.199188232421875\n",
      "Trial 33: Mean_Squared_Error= 41.18138885498047\n",
      "Trial 34: Mean_Squared_Error= 36.3961067199707\n",
      "Trial 35: Mean_Squared_Error= 34.428958892822266\n",
      "Trial 36: Mean_Squared_Error= 36.21826934814453\n",
      "Trial 37: Mean_Squared_Error= 36.808807373046875\n",
      "Trial 38: Mean_Squared_Error= 38.36858367919922\n",
      "Trial 39: Mean_Squared_Error= 36.43526077270508\n",
      "Trial 40: Mean_Squared_Error= 36.59104919433594\n",
      "Trial 41: Mean_Squared_Error= 38.14728546142578\n",
      "Trial 42: Mean_Squared_Error= 39.098697662353516\n",
      "Trial 43: Mean_Squared_Error= 37.584449768066406\n",
      "Trial 44: Mean_Squared_Error= 34.083255767822266\n",
      "Trial 45: Mean_Squared_Error= 41.43458557128906\n",
      "Trial 46: Mean_Squared_Error= 34.87261962890625\n",
      "Trial 47: Mean_Squared_Error= 36.320308685302734\n",
      "Trial 48: Mean_Squared_Error= 36.91482162475586\n",
      "Trial 49: Mean_Squared_Error= 35.24216842651367\n",
      "Trial 50: Mean_Squared_Error= 39.46856689453125\n"
     ]
    }
   ],
   "source": [
    "norm_mse_list = []\n",
    "for i in range(50):\n",
    "    x_train, x_test, y_train, y_test = train_test_split(norm_predictors_group, target_group, test_size=0.3)\n",
    "    result2 = my_model2.fit(x_train, y_train, epochs=50, verbose=0, validation_data=(x_test, y_test))\n",
    "    norm_mean_squared_error = result2.history['val_loss'][-1]\n",
    "    norm_mse_list.append(norm_mean_squared_error)\n",
    "    print('Trial {}: Mean_Squared_Error= {}'.format(i+1, norm_mean_squared_error))  "
   ]
  },
  {
   "cell_type": "markdown",
   "id": "16f1f872",
   "metadata": {},
   "source": [
    "### The mean and the standard deviation of the mean squared errors"
   ]
  },
  {
   "cell_type": "code",
   "execution_count": 14,
   "id": "68e4ebb3",
   "metadata": {
    "scrolled": true
   },
   "outputs": [
    {
     "name": "stdout",
     "output_type": "stream",
     "text": [
      "The mean of the mean squared errors: 51.69189743041992\n",
      "The standard deviation of the mean squared errors: 46.65467409080513\n"
     ]
    }
   ],
   "source": [
    "mean2 = np.mean(norm_mse_list)\n",
    "standard_deviation2 = np.std(norm_mse_list)\n",
    "print(\"The mean of the mean squared errors: {}\".format(mean2))\n",
    "print(\"The standard deviation of the mean squared errors: {}\".format(standard_deviation2))"
   ]
  },
  {
   "cell_type": "markdown",
   "id": "d55613fe",
   "metadata": {},
   "source": [
    "### As noteced: the mean of the mean squared errors *Decreased* compare to that from Step A."
   ]
  },
  {
   "cell_type": "markdown",
   "id": "87b7b34e",
   "metadata": {},
   "source": [
    "# C. Increate the number of epochs"
   ]
  },
  {
   "cell_type": "markdown",
   "id": "56d32ad4",
   "metadata": {},
   "source": [
    "### Build a model"
   ]
  },
  {
   "cell_type": "code",
   "execution_count": 15,
   "id": "6a16c31c",
   "metadata": {},
   "outputs": [],
   "source": [
    "def norm_regression_model2():\n",
    "    norm_model2 = Sequential()\n",
    "    norm_model2.add(Dense(10, activation='relu', input_shape=(norm_predictors_group.shape[1],)))\n",
    "    norm_model2.add(Dense(1))\n",
    "    norm_model2.compile(optimizer='adam', loss='mean_squared_error')\n",
    "    return norm_model2"
   ]
  },
  {
   "cell_type": "code",
   "execution_count": 16,
   "id": "ef235cf2",
   "metadata": {},
   "outputs": [],
   "source": [
    "my_model3 = norm_regression_model2()"
   ]
  },
  {
   "cell_type": "markdown",
   "id": "8c46f08e",
   "metadata": {},
   "source": [
    "### Train the model on the training data using 100 epochs"
   ]
  },
  {
   "cell_type": "code",
   "execution_count": 17,
   "id": "eb01577e",
   "metadata": {},
   "outputs": [
    {
     "name": "stdout",
     "output_type": "stream",
     "text": [
      "Trial 1: Mean_Squared_Error= 142.4388885498047\n",
      "Trial 2: Mean_Squared_Error= 106.27892303466797\n",
      "Trial 3: Mean_Squared_Error= 59.50465774536133\n",
      "Trial 4: Mean_Squared_Error= 48.6295166015625\n",
      "Trial 5: Mean_Squared_Error= 46.90736389160156\n",
      "Trial 6: Mean_Squared_Error= 44.44423294067383\n",
      "Trial 7: Mean_Squared_Error= 47.41929244995117\n",
      "Trial 8: Mean_Squared_Error= 40.99114990234375\n",
      "Trial 9: Mean_Squared_Error= 42.116676330566406\n",
      "Trial 10: Mean_Squared_Error= 40.61408233642578\n",
      "Trial 11: Mean_Squared_Error= 42.98280334472656\n",
      "Trial 12: Mean_Squared_Error= 37.788787841796875\n",
      "Trial 13: Mean_Squared_Error= 35.175262451171875\n",
      "Trial 14: Mean_Squared_Error= 39.14115905761719\n",
      "Trial 15: Mean_Squared_Error= 35.52425765991211\n",
      "Trial 16: Mean_Squared_Error= 36.46026611328125\n",
      "Trial 17: Mean_Squared_Error= 40.53184509277344\n",
      "Trial 18: Mean_Squared_Error= 39.26422882080078\n",
      "Trial 19: Mean_Squared_Error= 36.87031173706055\n",
      "Trial 20: Mean_Squared_Error= 38.363224029541016\n",
      "Trial 21: Mean_Squared_Error= 44.15281295776367\n",
      "Trial 22: Mean_Squared_Error= 39.7385139465332\n",
      "Trial 23: Mean_Squared_Error= 39.071353912353516\n",
      "Trial 24: Mean_Squared_Error= 37.08336639404297\n",
      "Trial 25: Mean_Squared_Error= 35.85569381713867\n",
      "Trial 26: Mean_Squared_Error= 37.566471099853516\n",
      "Trial 27: Mean_Squared_Error= 34.65283203125\n",
      "Trial 28: Mean_Squared_Error= 38.90215301513672\n",
      "Trial 29: Mean_Squared_Error= 45.461181640625\n",
      "Trial 30: Mean_Squared_Error= 40.809364318847656\n",
      "Trial 31: Mean_Squared_Error= 34.10610580444336\n",
      "Trial 32: Mean_Squared_Error= 33.44233703613281\n",
      "Trial 33: Mean_Squared_Error= 41.39706802368164\n",
      "Trial 34: Mean_Squared_Error= 39.511104583740234\n",
      "Trial 35: Mean_Squared_Error= 37.3929443359375\n",
      "Trial 36: Mean_Squared_Error= 37.844703674316406\n",
      "Trial 37: Mean_Squared_Error= 41.557289123535156\n",
      "Trial 38: Mean_Squared_Error= 35.53695297241211\n",
      "Trial 39: Mean_Squared_Error= 41.029178619384766\n",
      "Trial 40: Mean_Squared_Error= 38.793670654296875\n",
      "Trial 41: Mean_Squared_Error= 37.82107925415039\n",
      "Trial 42: Mean_Squared_Error= 37.42934036254883\n",
      "Trial 43: Mean_Squared_Error= 36.4295539855957\n",
      "Trial 44: Mean_Squared_Error= 38.227535247802734\n",
      "Trial 45: Mean_Squared_Error= 43.28063201904297\n",
      "Trial 46: Mean_Squared_Error= 44.384498596191406\n",
      "Trial 47: Mean_Squared_Error= 40.56107711791992\n",
      "Trial 48: Mean_Squared_Error= 33.36439514160156\n",
      "Trial 49: Mean_Squared_Error= 40.02035903930664\n",
      "Trial 50: Mean_Squared_Error= 36.68718338012695\n"
     ]
    }
   ],
   "source": [
    "norm_mse_list2 = []\n",
    "for i in range(50):  \n",
    "    x_train, x_test, y_train, y_test = train_test_split(norm_predictors_group, target_group, test_size=0.3)\n",
    "    #Train the model by 100 epochs\n",
    "    result3 = my_model3.fit(x_train, y_train, epochs=100, verbose=0, validation_data=(x_test, y_test))\n",
    "    norm_mean_squared_error2 = result3.history['val_loss'][-1]\n",
    "    norm_mse_list2.append(norm_mean_squared_error2)\n",
    "    print('Trial {}: Mean_Squared_Error= {}'.format(i+1, norm_mean_squared_error2))"
   ]
  },
  {
   "cell_type": "markdown",
   "id": "416c5ff7",
   "metadata": {},
   "source": [
    "### The mean and the standard deviation of the mean squared error"
   ]
  },
  {
   "cell_type": "code",
   "execution_count": 18,
   "id": "3140fa8c",
   "metadata": {},
   "outputs": [
    {
     "name": "stdout",
     "output_type": "stream",
     "text": [
      "The mean of the mean squared errors: 43.27115364074707\n",
      "The standard deviation of the mean squared errors: 17.525611951789827\n"
     ]
    }
   ],
   "source": [
    "mean3 = np.mean(norm_mse_list2)\n",
    "standard_deviation3 = np.std(norm_mse_list2)\n",
    "print(\"The mean of the mean squared errors: {}\".format(mean3))\n",
    "print(\"The standard deviation of the mean squared errors: {}\".format(standard_deviation3))"
   ]
  },
  {
   "cell_type": "markdown",
   "id": "e495c172",
   "metadata": {},
   "source": [
    "### As noteced: the mean of the mean squared errors keeps Decreasing as we doubled the epoches number"
   ]
  },
  {
   "cell_type": "markdown",
   "id": "8fd4a68a",
   "metadata": {},
   "source": [
    "# D. Increase the number of hidden layers"
   ]
  },
  {
   "cell_type": "markdown",
   "id": "7f497595",
   "metadata": {},
   "source": [
    "### Create a new model with three hidden layers"
   ]
  },
  {
   "cell_type": "code",
   "execution_count": 19,
   "id": "786c096d",
   "metadata": {},
   "outputs": [],
   "source": [
    "def norm_regression_model3():\n",
    "    norm_model3 = Sequential()\n",
    "    #creating the first layer\n",
    "    norm_model3.add(Dense(10, activation='relu', input_shape=(norm_predictors_group.shape[1],)))\n",
    "    #creating the second layer\n",
    "    norm_model3.add(Dense(10, activation='relu'))\n",
    "    #creating the third layer\n",
    "    norm_model3.add(Dense(10, activation='relu'))\n",
    "    norm_model3.add(Dense(1))\n",
    "    norm_model3.compile(optimizer='adam', loss='mean_squared_error')\n",
    "    return norm_model3"
   ]
  },
  {
   "cell_type": "code",
   "execution_count": 20,
   "id": "ca9f03b9",
   "metadata": {},
   "outputs": [],
   "source": [
    "my_model4 = norm_regression_model3()"
   ]
  },
  {
   "cell_type": "markdown",
   "id": "26bd99ee",
   "metadata": {},
   "source": [
    "### Train the model on the training data using 50 epochs"
   ]
  },
  {
   "cell_type": "code",
   "execution_count": 21,
   "id": "9741784f",
   "metadata": {},
   "outputs": [
    {
     "name": "stdout",
     "output_type": "stream",
     "text": [
      "Trial 1: Mean_Squared_Error= 122.92982482910156\n",
      "Trial 2: Mean_Squared_Error= 74.23184967041016\n",
      "Trial 3: Mean_Squared_Error= 51.39278793334961\n",
      "Trial 4: Mean_Squared_Error= 47.779754638671875\n",
      "Trial 5: Mean_Squared_Error= 34.919151306152344\n",
      "Trial 6: Mean_Squared_Error= 40.46145248413086\n",
      "Trial 7: Mean_Squared_Error= 38.42198181152344\n",
      "Trial 8: Mean_Squared_Error= 29.904451370239258\n",
      "Trial 9: Mean_Squared_Error= 35.60575485229492\n",
      "Trial 10: Mean_Squared_Error= 31.198833465576172\n",
      "Trial 11: Mean_Squared_Error= 31.262636184692383\n",
      "Trial 12: Mean_Squared_Error= 30.03436851501465\n",
      "Trial 13: Mean_Squared_Error= 27.6962890625\n",
      "Trial 14: Mean_Squared_Error= 31.024824142456055\n",
      "Trial 15: Mean_Squared_Error= 29.752666473388672\n",
      "Trial 16: Mean_Squared_Error= 26.372848510742188\n",
      "Trial 17: Mean_Squared_Error= 24.042396545410156\n",
      "Trial 18: Mean_Squared_Error= 28.375654220581055\n",
      "Trial 19: Mean_Squared_Error= 26.94432258605957\n",
      "Trial 20: Mean_Squared_Error= 29.36333465576172\n",
      "Trial 21: Mean_Squared_Error= 25.11441993713379\n",
      "Trial 22: Mean_Squared_Error= 23.815231323242188\n",
      "Trial 23: Mean_Squared_Error= 26.925012588500977\n",
      "Trial 24: Mean_Squared_Error= 24.729782104492188\n",
      "Trial 25: Mean_Squared_Error= 26.70204734802246\n",
      "Trial 26: Mean_Squared_Error= 25.43935203552246\n",
      "Trial 27: Mean_Squared_Error= 22.25435447692871\n",
      "Trial 28: Mean_Squared_Error= 23.044858932495117\n",
      "Trial 29: Mean_Squared_Error= 23.676494598388672\n",
      "Trial 30: Mean_Squared_Error= 27.69034194946289\n",
      "Trial 31: Mean_Squared_Error= 23.298736572265625\n",
      "Trial 32: Mean_Squared_Error= 25.62172508239746\n",
      "Trial 33: Mean_Squared_Error= 23.968963623046875\n",
      "Trial 34: Mean_Squared_Error= 23.736873626708984\n",
      "Trial 35: Mean_Squared_Error= 22.70551872253418\n",
      "Trial 36: Mean_Squared_Error= 24.087501525878906\n",
      "Trial 37: Mean_Squared_Error= 21.364360809326172\n",
      "Trial 38: Mean_Squared_Error= 24.14655303955078\n",
      "Trial 39: Mean_Squared_Error= 25.753847122192383\n",
      "Trial 40: Mean_Squared_Error= 24.596704483032227\n",
      "Trial 41: Mean_Squared_Error= 19.996902465820312\n",
      "Trial 42: Mean_Squared_Error= 16.95427131652832\n",
      "Trial 43: Mean_Squared_Error= 23.886188507080078\n",
      "Trial 44: Mean_Squared_Error= 22.14893913269043\n",
      "Trial 45: Mean_Squared_Error= 25.20751953125\n",
      "Trial 46: Mean_Squared_Error= 23.02879524230957\n",
      "Trial 47: Mean_Squared_Error= 21.491619110107422\n",
      "Trial 48: Mean_Squared_Error= 22.163644790649414\n",
      "Trial 49: Mean_Squared_Error= 18.262489318847656\n",
      "Trial 50: Mean_Squared_Error= 18.953062057495117\n"
     ]
    }
   ],
   "source": [
    "norm_mse_list3 = [] \n",
    "for i in range(50):  \n",
    "    x_train, x_test, y_train, y_test = train_test_split(norm_predictors_group, target_group, test_size=0.3)\n",
    "    result4 = my_model4.fit(x_train, y_train, epochs=50, verbose=0, validation_data=(x_test, y_test))\n",
    "    norm_mean_squared_error3 = result4.history['val_loss'][-1]\n",
    "    norm_mse_list3.append(norm_mean_squared_error3)\n",
    "    print('Trial {}: Mean_Squared_Error= {}'.format(i+1, norm_mean_squared_error3))"
   ]
  },
  {
   "cell_type": "markdown",
   "id": "d6d9ee33",
   "metadata": {},
   "source": [
    "### The mean and the standard deviation of the mean squared error"
   ]
  },
  {
   "cell_type": "code",
   "execution_count": 22,
   "id": "0eee4c27",
   "metadata": {},
   "outputs": [
    {
     "name": "stdout",
     "output_type": "stream",
     "text": [
      "The mean of the mean squared errors: 29.84962589263916\n",
      "The standard deviation of the mean squared errors: 16.232435935939538\n"
     ]
    }
   ],
   "source": [
    "mean4 = np.mean(norm_mse_list3)\n",
    "standard_deviation4 = np.std(norm_mse_list3)\n",
    "print(\"The mean of the mean squared errors: {}\".format(mean4))\n",
    "print(\"The standard deviation of the mean squared errors: {}\".format(standard_deviation4))"
   ]
  },
  {
   "cell_type": "markdown",
   "id": "509b0c84",
   "metadata": {},
   "source": [
    "### The mean of the mean squared errors in case D is the least compaired to cases A, B and C. As the neural network became a little bit deeper."
   ]
  }
 ],
 "metadata": {
  "kernelspec": {
   "display_name": "Python 3 (ipykernel)",
   "language": "python",
   "name": "python3"
  },
  "language_info": {
   "codemirror_mode": {
    "name": "ipython",
    "version": 3
   },
   "file_extension": ".py",
   "mimetype": "text/x-python",
   "name": "python",
   "nbconvert_exporter": "python",
   "pygments_lexer": "ipython3",
   "version": "3.9.13"
  }
 },
 "nbformat": 4,
 "nbformat_minor": 5
}
